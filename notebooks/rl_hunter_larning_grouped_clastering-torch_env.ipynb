{
 "cells": [
  {
   "cell_type": "markdown",
   "metadata": {},
   "source": [
    "### Problem statment\n",
    "\n",
    "Let's suppose, that there are a grup of objects - hunters. The goal of each hunter is to be inside of circle with given radius of group center and aloso do not touch other hunters (retain your own comfort zone). \n",
    "Hunter problem is that he knows restricted amount of information:\n",
    "\n",
    "1. Dirrection of closest hunter velocity $v_{c}$: $\\frac{v_{c}}{||v_{c}||}$\n",
    "2. Does hunter distance to closest hunter reduced: $\\{0,1\\}$\n",
    "3. Does closest hunter break into comfort zone with specified radius: $\\{0,1\\}$\n",
    "4. Dirrection of group velocity $v_{g}$: $\\frac{v_{g}}{||v_{g}||}$\n",
    "5. Does hunter distance to group center reduced: $\\{0,1\\}$\n",
    "6. Is hunter inside the circle of group center: $\\{0,1\\}$\n",
    "7. Dirrection of hunter velocity $v_{h}$: $\\frac{v_{h}}{||v_{h}||}$\n",
    "8. Hunter force: $f_{h}$\n",
    "\n",
    "In descrete time case hunter will have the following information:\n",
    "\n",
    "1. Dirrection of closest hunter velocity: $\\frac{x_{h_{c}}^0 - x_{h_{c}}^{-1}}{||x_{h_{c}}^0 - x_{h_{c}}^{-1}||}$\n",
    "\n",
    "    $ c = arg \\min\\limits_{k\\ne i} \\left|\\left|x_{h_i}^{-1}-x_{h_k}^{-1}\\right|\\right|$\n",
    "\n",
    "2. Does hunter distance to closest neighbour hunter reduced: $h\\left(d_i^{0}- d_i^{1}\\right)$\n",
    "\n",
    "    $ d_i^{-1} = \\min\\limits_{k\\ne i} \\left|\\left|x_{h_i}^{-1}-x_{h_k}^{-1}\\right|\\right|$\n",
    "\n",
    "    $ d_i^{0} = \\min\\limits_{k\\ne i} \\left|\\left|x_{h_i}^{0}-x_{h_k}^{0}\\right|\\right|$\n",
    "\n",
    "3. Does closest hunter break into comfort zone with radius $r_{cz}$: $h \\left(r_{cz} -\\left|\\left|x_{h}^0-x_{c}^0\\right|\\right| \\right)$\n",
    "\n",
    "4. Dirrection of group velocity: $\\frac{x_{g}^0 - x_{g}^{-1}}{||x_{g}^0 - x_{g}^{-1}||}$\n",
    "\n",
    "    $x_g^{-1} = \\overline{x_h}^{-1}$\n",
    "\n",
    "    $x_g^{0} = \\overline{x_h}^{0}$\n",
    "\n",
    "5. Does hunter distance to group center reduced: $h\\left(\\left|\\left|x_{h}^{-1}-x_{g}^{-1}\\right|\\right|-\\left|\\left|x_{h}^0-x_{g}^0\\right|\\right|\\right)$\n",
    "\n",
    "6. Is hunter inside  $r_{gc}$ - radius the circle  of the group center: $h \\left(r_{gc} -\\left|\\left|x_{h}^0-x_{g}^0\\right|\\right| \\right)$\n",
    "\n",
    "7. Dirrection of hunter velocity: $\\frac{x_{h_i}^0 - x_{h_i}^{-1}}{||x_{h_i}^0 - x_{h_i}^{-1}||}$\n",
    "\n",
    "8. Hunter force: $f_{h_i}^{-1}$"
   ]
  },
  {
   "cell_type": "markdown",
   "metadata": {},
   "source": [
    "### Environment"
   ]
  },
  {
   "cell_type": "markdown",
   "metadata": {},
   "source": [
    "#### Hunter policy\n",
    "\n",
    "Since hunter may moove only with speed constrained by some constant, we need to\n",
    "constrain action space. Let's define max speed as $v_{max}$.\n",
    "We may define our distribution via some function $G(x)$ from simple normal distribution $\\mathcal{N}(x|\\mu,diag(e^{2 s}))$.\n",
    "Let's define function $g(x)$ so, that it was constrained in circle with radius $v_{max}$:\n",
    "$$\n",
    "G(x) = v_{max}\\frac{x}{||x||_2}e^{-||x||_2^2} \n",
    "$$\n",
    "\n",
    "$$\\nabla_x\\left[\\textbf{f}(x)g(x)\\right] = \\frac{d\\textbf{f}(x)}{dx}g(x)+\\frac{dg(x)}{dx} \\textbf{f}(x)^T $$\n",
    "\n",
    "$$ \\nabla_x G(x) =v_{max} \\left( \\frac{e^{-||x||_2^2}}{||x||_2} I + \\nabla_x\\left[\\frac{e^{-||x||_2^2}}{||x||_2}\\right]x^T\\right) $$"
   ]
  },
  {
   "cell_type": "markdown",
   "metadata": {},
   "source": [
    "$$ \\nabla_x\\left[\\frac{e^{-||x||_2^2}}{||x||_2}\\right] = \\nabla_{||x||_2}\\left[\\frac{e^{-||x||_2^2}}{||x||_2}\\right]\\nabla_x||x||_2$$\n",
    "\n",
    "$$\\nabla_x||x||_2 = \\frac{x}{||x||_2}$$\n",
    "$$  \\nabla_{||x||_2}\\left[\\frac{e^{-||x||_2^2}}{||x||_2}\\right] = -\\left[\\frac{1}{||x||_2^2}+2\\right]e^{-||x||_2^2}$$"
   ]
  },
  {
   "cell_type": "markdown",
   "metadata": {},
   "source": [
    "$$ \\nabla_x G(x) =v_{max}\\frac{e^{-||x||_2^2}}{||x||_2} \\left(I -\\left[\\frac{1}{||x||_2^2}+2\\right] x x^T\\right)  $$"
   ]
  },
  {
   "cell_type": "markdown",
   "metadata": {},
   "source": [
    "$$\\mathcal{J}_{G(x)}=-\\left(v_{max} \\frac{e^{-||x||_2^2}}{||x||_2}\\right)^n \\left(1-\\left[\\frac{1}{||x||_2^2}+2\\right]||x||_2^2 \\right) = 2\\left(v_{max} \\frac{e^{-||x||_2^2}}{||x||_2}\\right)^n ||x||_2^2 $$"
   ]
  },
  {
   "cell_type": "markdown",
   "metadata": {},
   "source": [
    "for 2 dimentions:\n",
    "$$\\mathcal{J}_{G(x)}=2 v_{max}^2 e^{-2||x||_2^2}$$"
   ]
  },
  {
   "cell_type": "markdown",
   "metadata": {},
   "source": [
    "$$\\ln(\\mathcal{J}_{G(x)}^{-1})=2\\left(||x||_2^2-\\ln v_{max}\\right)-\\ln 2$$"
   ]
  },
  {
   "cell_type": "markdown",
   "metadata": {},
   "source": [
    "So, PDF of distribution rv G(x) may be estimated as following:\n",
    "$$\\mathcal{N}(x|\\mu,diag(e^{2s}))J_{G(x)}^{-1}$$"
   ]
  },
  {
   "cell_type": "markdown",
   "metadata": {},
   "source": [
    "#### Reward assignmend\n",
    "\n",
    "Reword is equal to:\n",
    "\n",
    "    if current hunter inside group center circle:\n",
    "        gc_reward = 2\n",
    "\n",
    "    else, if distance to group center reduced:\n",
    "        gc_reward = 1\n",
    "   \n",
    "    else:\n",
    "        gc_reward = 0\n",
    "        \n",
    "    if  closest hunter break into comfort zone:\n",
    "        cz_penalty = 1\n",
    "    else:\n",
    "        cz_penalty = 0\n",
    "    \n",
    "    reward = gc_reward - cz_penalty"
   ]
  },
  {
   "cell_type": "code",
   "execution_count": 110,
   "metadata": {},
   "outputs": [],
   "source": [
    "import numpy as np\n",
    "\n",
    "\n",
    "import numpy as np\n",
    "policy = HunterPolicy(env,max_action=3)\n",
    "env = GroupedClusteringHunterEnvironment(num_hunters=10)\n",
    "env.state\n",
    "policy(env.state)\n",
    "action,_ = policy.sample_action()\n",
    "env.step(action)\n",
    "env.reset()"
   ]
  },
  {
   "cell_type": "code",
   "execution_count": 111,
   "metadata": {},
   "outputs": [],
   "source": [
    "import torch\n",
    "from policy import HunterPolicy, VictimPolicy, Baseline\n",
    "# from environment import GroupedClusteringHunterEnvironment\n",
    "\n",
    "from train import train, visualize_group\n",
    "%matplotlib inline\n",
    "\n",
    "env = GroupedClusteringHunterEnvironment(num_hunters=100)\n",
    "\n",
    "baseline = Baseline(env)\n",
    "policy = HunterPolicy(env,max_action=3)"
   ]
  },
  {
   "cell_type": "code",
   "execution_count": 112,
   "metadata": {},
   "outputs": [
    {
     "ename": "ValueError",
     "evalue": "only one element tensors can be converted to Python scalars",
     "output_type": "error",
     "traceback": [
      "\u001b[0;31m---------------------------------------------------------------------------\u001b[0m",
      "\u001b[0;31mValueError\u001b[0m                                Traceback (most recent call last)",
      "\u001b[0;32m<ipython-input-112-6f0549cfdced>\u001b[0m in \u001b[0;36m<module>\u001b[0;34m()\u001b[0m\n\u001b[1;32m      2\u001b[0m \u001b[0;34m\u001b[0m\u001b[0m\n\u001b[1;32m      3\u001b[0m \u001b[0;34m\u001b[0m\u001b[0m\n\u001b[0;32m----> 4\u001b[0;31m \u001b[0mtrain\u001b[0m\u001b[0;34m(\u001b[0m\u001b[0mpolicy\u001b[0m\u001b[0;34m,\u001b[0m\u001b[0menv\u001b[0m\u001b[0;34m,\u001b[0m\u001b[0;36m100000\u001b[0m\u001b[0;34m,\u001b[0m \u001b[0mlearning_rate\u001b[0m\u001b[0;34m=\u001b[0m\u001b[0;36m0.0001\u001b[0m\u001b[0;34m,\u001b[0m \u001b[0mbaseline\u001b[0m\u001b[0;34m=\u001b[0m\u001b[0mbaseline\u001b[0m\u001b[0;34m,\u001b[0m\u001b[0mgamma\u001b[0m \u001b[0;34m=\u001b[0m \u001b[0;36m0.99\u001b[0m\u001b[0;34m)\u001b[0m\u001b[0;34m\u001b[0m\u001b[0m\n\u001b[0m",
      "\u001b[0;32m~/Yandex.Disk.localized/Files/Skoltech/Thesis/Hunter Learning/hunter_learning/train.py\u001b[0m in \u001b[0;36mtrain\u001b[0;34m(policy, env, episodes, learning_rate, gamma, verbose, save_policy, batch, visualize, baseline)\u001b[0m\n\u001b[1;32m    186\u001b[0m         \u001b[0mplay_episode\u001b[0m\u001b[0;34m(\u001b[0m\u001b[0mpolicy\u001b[0m\u001b[0;34m,\u001b[0m \u001b[0menv\u001b[0m\u001b[0;34m,\u001b[0m \u001b[0mbaseline\u001b[0m\u001b[0;34m)\u001b[0m\u001b[0;34m\u001b[0m\u001b[0m\n\u001b[1;32m    187\u001b[0m \u001b[0;34m\u001b[0m\u001b[0m\n\u001b[0;32m--> 188\u001b[0;31m         \u001b[0mvalues\u001b[0m \u001b[0;34m=\u001b[0m \u001b[0mcompute_value_function\u001b[0m\u001b[0;34m(\u001b[0m\u001b[0mpolicy\u001b[0m\u001b[0;34m,\u001b[0m \u001b[0mgamma\u001b[0m\u001b[0;34m)\u001b[0m\u001b[0;34m\u001b[0m\u001b[0m\n\u001b[0m\u001b[1;32m    189\u001b[0m \u001b[0;34m\u001b[0m\u001b[0m\n\u001b[1;32m    190\u001b[0m \u001b[0;34m\u001b[0m\u001b[0m\n",
      "\u001b[0;32m~/Yandex.Disk.localized/Files/Skoltech/Thesis/Hunter Learning/hunter_learning/train.py\u001b[0m in \u001b[0;36mcompute_value_function\u001b[0;34m(policy, gamma)\u001b[0m\n\u001b[1;32m     31\u001b[0m         \u001b[0mrewards\u001b[0m\u001b[0;34m.\u001b[0m\u001b[0minsert\u001b[0m\u001b[0;34m(\u001b[0m\u001b[0;36m0\u001b[0m\u001b[0;34m,\u001b[0m\u001b[0mR\u001b[0m\u001b[0;34m)\u001b[0m\u001b[0;34m\u001b[0m\u001b[0m\n\u001b[1;32m     32\u001b[0m \u001b[0;34m\u001b[0m\u001b[0m\n\u001b[0;32m---> 33\u001b[0;31m     \u001b[0mrewards\u001b[0m \u001b[0;34m=\u001b[0m \u001b[0mtorch\u001b[0m\u001b[0;34m.\u001b[0m\u001b[0mFloatTensor\u001b[0m\u001b[0;34m(\u001b[0m\u001b[0mrewards\u001b[0m\u001b[0;34m)\u001b[0m\u001b[0;34m\u001b[0m\u001b[0m\n\u001b[0m\u001b[1;32m     34\u001b[0m \u001b[0;34m\u001b[0m\u001b[0m\n\u001b[1;32m     35\u001b[0m     \u001b[0;32mreturn\u001b[0m \u001b[0mrewards\u001b[0m\u001b[0;34m\u001b[0m\u001b[0m\n",
      "\u001b[0;31mValueError\u001b[0m: only one element tensors can be converted to Python scalars"
     ]
    }
   ],
   "source": [
    "%matplotlib inline\n",
    "\n",
    "\n",
    "train(policy,env,100000, learning_rate=0.0001, baseline=baseline,gamma = 0.99)"
   ]
  },
  {
   "cell_type": "code",
   "execution_count": 3,
   "metadata": {},
   "outputs": [],
   "source": [
    "policy = torch.load('grouped_force_policy_max_force_3_num_hunters_10.p')"
   ]
  },
  {
   "cell_type": "code",
   "execution_count": 5,
   "metadata": {},
   "outputs": [],
   "source": [
    "torch.save(policy,'new_force_policy_ellipse_max_action_3.p')\n",
    "policy = torch.load('new_force_policy_ellipse_max_action_3.p')"
   ]
  },
  {
   "cell_type": "markdown",
   "metadata": {},
   "source": [
    "### Test Visualization"
   ]
  },
  {
   "cell_type": "code",
   "execution_count": 3,
   "metadata": {
    "scrolled": false
   },
   "outputs": [
    {
     "ename": "ModuleNotFoundError",
     "evalue": "No module named 'grouped_clusteting_visualization'",
     "output_type": "error",
     "traceback": [
      "\u001b[0;31m---------------------------------------------------------------------------\u001b[0m",
      "\u001b[0;31mModuleNotFoundError\u001b[0m                       Traceback (most recent call last)",
      "\u001b[0;32m<ipython-input-3-a8e7cbf2b2e3>\u001b[0m in \u001b[0;36m<module>\u001b[0;34m()\u001b[0m\n\u001b[0;32m----> 1\u001b[0;31m \u001b[0;32mfrom\u001b[0m \u001b[0mgrouped_clusteting_visualization\u001b[0m \u001b[0;32mimport\u001b[0m \u001b[0mmodel_hunter_learning\u001b[0m\u001b[0;34m\u001b[0m\u001b[0m\n\u001b[0m\u001b[1;32m      2\u001b[0m \u001b[0mget_ipython\u001b[0m\u001b[0;34m(\u001b[0m\u001b[0;34m)\u001b[0m\u001b[0;34m.\u001b[0m\u001b[0mrun_line_magic\u001b[0m\u001b[0;34m(\u001b[0m\u001b[0;34m'matplotlib'\u001b[0m\u001b[0;34m,\u001b[0m \u001b[0;34m'notebook'\u001b[0m\u001b[0;34m)\u001b[0m\u001b[0;34m\u001b[0m\u001b[0m\n\u001b[1;32m      3\u001b[0m \u001b[0;34m\u001b[0m\u001b[0m\n\u001b[1;32m      4\u001b[0m \u001b[0;34m\u001b[0m\u001b[0m\n\u001b[1;32m      5\u001b[0m \u001b[0;34m\u001b[0m\u001b[0m\n",
      "\u001b[0;31mModuleNotFoundError\u001b[0m: No module named 'grouped_clusteting_visualization'"
     ]
    }
   ],
   "source": [
    "from grouped_clusteting_visualization import model_hunter_learning\n",
    "%matplotlib notebook\n",
    "\n",
    "             \n",
    "\n",
    "model_hunter_learning('Test. max action = 3',policy,env)"
   ]
  },
  {
   "cell_type": "code",
   "execution_count": null,
   "metadata": {},
   "outputs": [],
   "source": []
  }
 ],
 "metadata": {
  "kernelspec": {
   "display_name": "Python 3",
   "language": "python",
   "name": "python3"
  },
  "language_info": {
   "codemirror_mode": {
    "name": "ipython",
    "version": 3
   },
   "file_extension": ".py",
   "mimetype": "text/x-python",
   "name": "python",
   "nbconvert_exporter": "python",
   "pygments_lexer": "ipython3",
   "version": "3.6.3"
  }
 },
 "nbformat": 4,
 "nbformat_minor": 2
}
